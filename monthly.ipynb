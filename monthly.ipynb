{
 "cells": [
  {
   "cell_type": "code",
   "execution_count": null,
   "id": "17e82df6-666b-4dcd-acdb-34bb23ab1a36",
   "metadata": {},
   "outputs": [],
   "source": [
    "import pandas as pd"
   ]
  },
  {
   "cell_type": "code",
   "execution_count": 7,
   "id": "5ddf9faf-8639-4c1c-a548-59c8cf924f77",
   "metadata": {},
   "outputs": [
    {
     "name": "stdout",
     "output_type": "stream",
     "text": [
      "SOR\n",
      "Series list:['SOR', 'SOR', 'SOR', 'SOR', 'SOR', 'SOR', 'SOR', 'SOR', 'SOR', 'SOR', 'SOR', 'SOR']\n",
      "Line list:[1950000, 1960000, 1970000, 1980000, 1990000, 2000000, 2010000, 2020000, 2030000, 2040000, 2050000, 2060000]\n",
      "Same\n"
     ]
    }
   ],
   "source": [
    "import pandas as pd\n",
    "df = pd.read_excel(\"天數測試.xlsx\")\n",
    "\n",
    "# 獲取 `Series Code` 為 \"SOR\" 的行\n",
    "test1 = df[\"Series Code\"] == \"SOR\"\n",
    "\n",
    "# 找到 `Line No.` 的最大值(int)\n",
    "max_line_no = df[test1][\"Line No.\"].max()\n",
    "\n",
    "# 根據 `Series Code` 為 \"SOR\" 和 `Line No.` 等於最大值過濾 DataFrame\n",
    "result = df[test1 & (df[\"Line No.\"] == max_line_no)]\n",
    "# print(result.index)\n",
    "\n",
    "series_code =result[\"Series Code\"].values[0]\n",
    "print(series_code)\n",
    "\n",
    "#建立series code/ line no的list\n",
    "series_list = []\n",
    "line_list = []\n",
    "\n",
    "for i in range(12):\n",
    "    series_list.append(series_code)\n",
    "    max_line_no += 10000\n",
    "    line_list.append(max_line_no)\n",
    "\n",
    "print(f\"Series list:{series_list}\")\n",
    "print(f\"Line list:{line_list}\")\n",
    "\n",
    "#Check length\n",
    "if len(series_list)==len(line_list):\n",
    "    print(\"Same\")\n",
    "else:\n",
    "    print(\"No\")"
   ]
  },
  {
   "cell_type": "code",
   "execution_count": 9,
   "id": "5a9b0361-62a3-40c4-bc10-da12e434c255",
   "metadata": {},
   "outputs": [
    {
     "name": "stdout",
     "output_type": "stream",
     "text": [
      "Line list:[1950000, 1960000, 1970000, 1980000, 1990000, 2000000, 2010000, 2020000, 2030000, 2040000, 2050000, 2060000]\n"
     ]
    }
   ],
   "source": [
    "\n",
    "print(f\"Line list:{line_list}\")\n"
   ]
  },
  {
   "cell_type": "code",
   "execution_count": 11,
   "id": "dc576d29-b88c-46c6-8da1-dfe9fba32da7",
   "metadata": {},
   "outputs": [
    {
     "name": "stdout",
     "output_type": "stream",
     "text": [
      "30 days 00:00:00\n",
      "Yes\n",
      "2025-01-01 00:00:00\n",
      "Formatted date:['2025/01/01', '2025/02/01', '2025/03/01', '2025/04/01', '2025/05/01', '2025/06/01', '2025/07/01', '2025/08/01', '2025/09/01', '2025/10/01', '2025/11/01', '2025/12/01']\n"
     ]
    }
   ],
   "source": [
    "import datetime\n",
    "\n",
    "#Starting date\n",
    "starting_date = result[\"Starting Date\"].values[0]\n",
    "before_starting_date = df.iloc[result.index-1,2].values[0]\n",
    "\n",
    "starting_date = pd.to_datetime(starting_date)\n",
    "before_starting_date = pd.to_datetime(before_starting_date)\n",
    "\n",
    "date_difference = (starting_date - before_starting_date)\n",
    "\n",
    "print((date_difference))\n",
    "\n",
    "if date_difference.days == 30 or date_difference.days ==31:\n",
    "    print(\"Yes\")\n",
    "elif date_difference.days == 1:\n",
    "    print(\"NO\")\n",
    "else:\n",
    "    print(\"1\")\n",
    "\n",
    "#Current year\n",
    "new_year = starting_date.year + 1\n",
    "new_starting_date = pd.Timestamp(year=new_year, month=1, day=starting_date.day)\n",
    "\n",
    "print(new_starting_date)\n",
    "\n",
    "date_list = []\n",
    "for i in range(1,13):\n",
    "    new_date = new_starting_date + pd.DateOffset(month=i)\n",
    "    date_list.append(new_date)\n",
    "\n",
    "#轉換成str格式的formatted date list，如果要抓年月日可以抓原始date list\n",
    "formatted_date_list = [date.strftime('%Y/%m/%d') for date in date_list]\n",
    "print(f\"Formatted date:{formatted_date_list}\")\n",
    "# print(len(date_list))\n",
    "# print((date_list))"
   ]
  },
  {
   "cell_type": "code",
   "execution_count": 13,
   "id": "68c7cbd8-828a-46a2-911a-059d72088d16",
   "metadata": {},
   "outputs": [
    {
     "name": "stdout",
     "output_type": "stream",
     "text": [
      "USO-24C0001\n",
      "Prefix:USO-\n",
      "Prefix Starting list:\n",
      "['USO-', 'USO-', 'USO-', 'USO-', 'USO-', 'USO-', 'USO-', 'USO-', 'USO-', 'USO-', 'USO-', 'USO-']\n",
      "Final Starting list:\n",
      "['USO-250101-0001', 'USO-250201-0001', 'USO-250301-0001', 'USO-250401-0001', 'USO-250501-0001', 'USO-250601-0001', 'USO-250701-0001', 'USO-250801-0001', 'USO-250901-0001', 'USO-25A01-0001', 'USO-25B01-0001', 'USO-25C01-0001']\n",
      "Fianl Ending list:\n",
      "['USO-25010-9999', 'USO-25020-9999', 'USO-25030-9999', 'USO-25040-9999', 'USO-25050-9999', 'USO-25060-9999', 'USO-25070-9999', 'USO-25080-9999', 'USO-25090-9999', 'USO-25A019999', 'USO-25B019999', 'USO-25C019999']\n"
     ]
    }
   ],
   "source": [
    "#Starting No\n",
    "\n",
    "last_starting_no = result[\"Starting No.\"].values[0]\n",
    "print(last_starting_no)\n",
    "\n",
    "\n",
    "#抓取prefix\n",
    "prefix = str(last_starting_no).split(\"-\")\n",
    "prefix = prefix[0] + \"-\"\n",
    "print(\"Prefix:\"+str(prefix))\n",
    "\n",
    "#生成新的Starting & Ending\n",
    "new_starting_no = \"\"\n",
    "\n",
    "starting_list = []\n",
    "\n",
    "for item in range(len(date_list)):\n",
    "    starting_list.append(new_starting_no)\n",
    "    starting_list[item]+=prefix\n",
    "print(\"Prefix Starting list:\")\n",
    "print(starting_list)\n",
    "\n",
    "for date in range(len(formatted_date_list)):\n",
    "    # print(formatted_date_list[date])\n",
    "    year_2 = formatted_date_list[date][2:4] \n",
    "    month_2 = formatted_date_list[date][5:7]\n",
    "    # print(year_2)\n",
    "    # print(month_2)\n",
    "    # print(date_2)\n",
    "    if int(month_2)==10:\n",
    "        month_2 = \"A\"\n",
    "    elif int(month_2)==11:\n",
    "        month_2 = \"B\"\n",
    "    elif int(month_2)==12:\n",
    "        month_2 = \"C\"\n",
    "    date_2 = formatted_date_list[date][8:]\n",
    "    starting_list[date] += year_2 + month_2 + date_2 + \"-0001\"\n",
    "print(\"Final Starting list:\")\n",
    "print(starting_list)\n",
    "    \n",
    "\n",
    "#生成新的Ending\n",
    "ending_list = []\n",
    "new_ending_no = \"\"\n",
    "for date in range(len(formatted_date_list)):\n",
    "    if any(char in starting_list[date] for char in ['A', 'B', 'C']):\n",
    "        new_ending_no = starting_list[date][0:len(prefix)+len(year_2)+len(month_2)+len(date_2)] + \"9999\"\n",
    "    else:\n",
    "        new_ending_no = starting_list[date][0:len(prefix)+len(year_2)+len(month_2)+len(date_2)] + \"-9999\"\n",
    "\n",
    "    ending_list.append(new_ending_no)\n",
    "print(\"Fianl Ending list:\")\n",
    "print(ending_list)"
   ]
  },
  {
   "cell_type": "code",
   "execution_count": 21,
   "id": "c0efa754-62f4-4212-aa31-abaf8a0496c7",
   "metadata": {},
   "outputs": [
    {
     "name": "stdout",
     "output_type": "stream",
     "text": [
      "    Series Code   Line No. Starting Date     Starting No.      Ending No.  \\\n",
      "563         SOR  1990000.0    2025-05-01  USO-250501-0001  USO-25050-9999   \n",
      "564         SOR  2000000.0    2025-06-01  USO-250601-0001  USO-25060-9999   \n",
      "565         SOR  2010000.0    2025-07-01  USO-250701-0001  USO-25070-9999   \n",
      "566         SOR  2020000.0    2025-08-01  USO-250801-0001  USO-25080-9999   \n",
      "567         SOR  2030000.0    2025-09-01  USO-250901-0001  USO-25090-9999   \n",
      "568         SOR  2040000.0    2025-10-01   USO-25A01-0001   USO-25A019999   \n",
      "569         SOR  2050000.0    2025-11-01   USO-25B01-0001   USO-25B019999   \n",
      "570         SOR  2060000.0    2025-12-01   USO-25C01-0001   USO-25C019999   \n",
      "571         SOR  1950000.0    2025-01-01  USO-250101-0001  USO-25010-9999   \n",
      "572         SOR  1960000.0    2025-02-01  USO-250201-0001  USO-25020-9999   \n",
      "573         SOR  1970000.0    2025-03-01  USO-250301-0001  USO-25030-9999   \n",
      "574         SOR  1980000.0    2025-04-01  USO-250401-0001  USO-25040-9999   \n",
      "575         SOR  1990000.0    2025-05-01  USO-250501-0001  USO-25050-9999   \n",
      "576         SOR  2000000.0    2025-06-01  USO-250601-0001  USO-25060-9999   \n",
      "577         SOR  2010000.0    2025-07-01  USO-250701-0001  USO-25070-9999   \n",
      "578         SOR  2020000.0    2025-08-01  USO-250801-0001  USO-25080-9999   \n",
      "579         SOR  2030000.0    2025-09-01  USO-250901-0001  USO-25090-9999   \n",
      "580         SOR  2040000.0    2025-10-01   USO-25A01-0001   USO-25A019999   \n",
      "581         SOR  2050000.0    2025-11-01   USO-25B01-0001   USO-25B019999   \n",
      "582         SOR  2060000.0    2025-12-01   USO-25C01-0001   USO-25C019999   \n",
      "\n",
      "     Warning No.  Increment-by No. Last No. Used Open Last Date Used  \n",
      "563          NaN               NaN           NaN  NaN            NaT  \n",
      "564          NaN               NaN           NaN  NaN            NaT  \n",
      "565          NaN               NaN           NaN  NaN            NaT  \n",
      "566          NaN               NaN           NaN  NaN            NaT  \n",
      "567          NaN               NaN           NaN  NaN            NaT  \n",
      "568          NaN               NaN           NaN  NaN            NaT  \n",
      "569          NaN               NaN           NaN  NaN            NaT  \n",
      "570          NaN               NaN           NaN  NaN            NaT  \n",
      "571          NaN               NaN           NaN  NaN            NaT  \n",
      "572          NaN               NaN           NaN  NaN            NaT  \n",
      "573          NaN               NaN           NaN  NaN            NaT  \n",
      "574          NaN               NaN           NaN  NaN            NaT  \n",
      "575          NaN               NaN           NaN  NaN            NaT  \n",
      "576          NaN               NaN           NaN  NaN            NaT  \n",
      "577          NaN               NaN           NaN  NaN            NaT  \n",
      "578          NaN               NaN           NaN  NaN            NaT  \n",
      "579          NaN               NaN           NaN  NaN            NaT  \n",
      "580          NaN               NaN           NaN  NaN            NaT  \n",
      "581          NaN               NaN           NaN  NaN            NaT  \n",
      "582          NaN               NaN           NaN  NaN            NaT  \n"
     ]
    }
   ],
   "source": [
    "import pandas as pd\n",
    "\n",
    "# 假設已有的 DataFrame df\n",
    "df = pd.read_excel(\"天數測試.xlsx\")\n",
    "\n",
    "# 新的 series_list 資料\n",
    "\n",
    "\n",
    "# Step 1: 確保 DataFrame 足夠長度來容納新的資料\n",
    "empty_rows_start = len(df)  # 找到目前df的長度，表示從此行開始填\n",
    "new_length = empty_rows_start + len(series_list)\n",
    "\n",
    "# Step 2: 擴展 DataFrame\n",
    "df = df.reindex(range(new_length))\n",
    "\n",
    "# Step 3: 插入資料到 'Series Code' 欄位\n",
    "df.loc[empty_rows_start:, 'Series Code'] = series_list\n",
    "df.loc[empty_rows_start:, 'Line No.'] = line_list\n",
    "df.loc[empty_rows_start:, 'Starting Date'] = formatted_date_list\n",
    "df.loc[empty_rows_start:, 'Starting No.'] = starting_list\n",
    "df.loc[empty_rows_start:, 'Ending No.'] = ending_list\n",
    "\n",
    "#存成 df_new\n",
    "df_new = df\n",
    "\n",
    "# 檢查結果\n",
    "print(df_new.tail(20))  # 檢查最後幾行是否正確填充\n"
   ]
  },
  {
   "cell_type": "code",
   "execution_count": 17,
   "id": "62b02172-a5d7-4ffe-9c7f-5473afc86678",
   "metadata": {},
   "outputs": [
    {
     "name": "stdout",
     "output_type": "stream",
     "text": [
      "DataFrame is written to Excel file successfully.\n"
     ]
    }
   ],
   "source": [
    "# Saving the DataFrame to a new Excel file\n",
    "output_file = 'New_series_No1.xlsx'\n",
    "\n",
    "# Using ExcelWriter to write DataFrame to an Excel file\n",
    "with pd.ExcelWriter(output_file, engine='openpyxl') as writer:\n",
    "    df_new.to_excel(writer, index=False)\n",
    "\n",
    "print('DataFrame is written to Excel file successfully.')"
   ]
  }
 ],
 "metadata": {
  "kernelspec": {
   "display_name": "Python 3 (ipykernel)",
   "language": "python",
   "name": "python3"
  },
  "language_info": {
   "codemirror_mode": {
    "name": "ipython",
    "version": 3
   },
   "file_extension": ".py",
   "mimetype": "text/x-python",
   "name": "python",
   "nbconvert_exporter": "python",
   "pygments_lexer": "ipython3",
   "version": "3.12.4"
  }
 },
 "nbformat": 4,
 "nbformat_minor": 5
}
