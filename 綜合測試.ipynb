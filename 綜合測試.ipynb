{
 "cells": [
  {
   "cell_type": "code",
   "execution_count": 3,
   "id": "702cc523-15c7-4f54-a67a-1999e31925ed",
   "metadata": {
    "tags": []
   },
   "outputs": [],
   "source": [
    "import pandas as pd\n",
    "import numpy as np"
   ]
  },
  {
   "cell_type": "code",
   "execution_count": 5,
   "id": "736c4e23-a0b9-4ed0-8780-f2ebf5cc103b",
   "metadata": {
    "tags": []
   },
   "outputs": [
    {
     "data": {
      "text/html": [
       "<div>\n",
       "<style scoped>\n",
       "    .dataframe tbody tr th:only-of-type {\n",
       "        vertical-align: middle;\n",
       "    }\n",
       "\n",
       "    .dataframe tbody tr th {\n",
       "        vertical-align: top;\n",
       "    }\n",
       "\n",
       "    .dataframe thead th {\n",
       "        text-align: right;\n",
       "    }\n",
       "</style>\n",
       "<table border=\"1\" class=\"dataframe\">\n",
       "  <thead>\n",
       "    <tr style=\"text-align: right;\">\n",
       "      <th></th>\n",
       "      <th>Series Code</th>\n",
       "      <th>Line No.</th>\n",
       "      <th>Starting Date</th>\n",
       "      <th>Starting No.</th>\n",
       "      <th>Ending No.</th>\n",
       "      <th>Warning No.</th>\n",
       "      <th>Increment-by No.</th>\n",
       "      <th>Last No. Used</th>\n",
       "      <th>Open</th>\n",
       "      <th>Last Date Used</th>\n",
       "    </tr>\n",
       "  </thead>\n",
       "  <tbody>\n",
       "    <tr>\n",
       "      <th>1311</th>\n",
       "      <td>UPC</td>\n",
       "      <td>40000</td>\n",
       "      <td>2024-03-13</td>\n",
       "      <td>81016214000</td>\n",
       "      <td>81016214999</td>\n",
       "      <td>NaN</td>\n",
       "      <td>1</td>\n",
       "      <td>81016214108</td>\n",
       "      <td>Yes</td>\n",
       "      <td>2024-09-27</td>\n",
       "    </tr>\n",
       "    <tr>\n",
       "      <th>1312</th>\n",
       "      <td>US-</td>\n",
       "      <td>10000</td>\n",
       "      <td>2008-12-01</td>\n",
       "      <td>US-00001</td>\n",
       "      <td>US-99999</td>\n",
       "      <td>NaN</td>\n",
       "      <td>0</td>\n",
       "      <td>NaN</td>\n",
       "      <td>Yes</td>\n",
       "      <td>NaT</td>\n",
       "    </tr>\n",
       "    <tr>\n",
       "      <th>1313</th>\n",
       "      <td>VERSION</td>\n",
       "      <td>10000</td>\n",
       "      <td>2019-08-01</td>\n",
       "      <td>1</td>\n",
       "      <td>99999</td>\n",
       "      <td>NaN</td>\n",
       "      <td>1</td>\n",
       "      <td>1</td>\n",
       "      <td>Yes</td>\n",
       "      <td>2019-09-30</td>\n",
       "    </tr>\n",
       "    <tr>\n",
       "      <th>1314</th>\n",
       "      <td>WC</td>\n",
       "      <td>10000</td>\n",
       "      <td>2019-08-01</td>\n",
       "      <td>WC0001</td>\n",
       "      <td>WC9999</td>\n",
       "      <td>NaN</td>\n",
       "      <td>1</td>\n",
       "      <td>WC0014</td>\n",
       "      <td>Yes</td>\n",
       "      <td>2021-09-27</td>\n",
       "    </tr>\n",
       "    <tr>\n",
       "      <th>1315</th>\n",
       "      <td>WO</td>\n",
       "      <td>10000</td>\n",
       "      <td>2019-08-01</td>\n",
       "      <td>WO1900001</td>\n",
       "      <td>WO1999999</td>\n",
       "      <td>NaN</td>\n",
       "      <td>1</td>\n",
       "      <td>WO1900034</td>\n",
       "      <td>Yes</td>\n",
       "      <td>2019-12-17</td>\n",
       "    </tr>\n",
       "    <tr>\n",
       "      <th>1316</th>\n",
       "      <td>WO</td>\n",
       "      <td>20000</td>\n",
       "      <td>2020-01-01</td>\n",
       "      <td>WO2000001</td>\n",
       "      <td>WO2099999</td>\n",
       "      <td>NaN</td>\n",
       "      <td>1</td>\n",
       "      <td>WO2000082</td>\n",
       "      <td>Yes</td>\n",
       "      <td>2020-12-26</td>\n",
       "    </tr>\n",
       "    <tr>\n",
       "      <th>1317</th>\n",
       "      <td>WO</td>\n",
       "      <td>30000</td>\n",
       "      <td>2021-01-01</td>\n",
       "      <td>WO2100001</td>\n",
       "      <td>WO2199999</td>\n",
       "      <td>NaN</td>\n",
       "      <td>1</td>\n",
       "      <td>WO2100080</td>\n",
       "      <td>Yes</td>\n",
       "      <td>2021-12-23</td>\n",
       "    </tr>\n",
       "    <tr>\n",
       "      <th>1318</th>\n",
       "      <td>WO</td>\n",
       "      <td>40000</td>\n",
       "      <td>2022-01-01</td>\n",
       "      <td>WO2200001</td>\n",
       "      <td>WO2299999</td>\n",
       "      <td>NaN</td>\n",
       "      <td>1</td>\n",
       "      <td>WO2200169</td>\n",
       "      <td>Yes</td>\n",
       "      <td>2022-12-19</td>\n",
       "    </tr>\n",
       "    <tr>\n",
       "      <th>1319</th>\n",
       "      <td>WO</td>\n",
       "      <td>50000</td>\n",
       "      <td>2023-01-01</td>\n",
       "      <td>WO2300001</td>\n",
       "      <td>WO2399999</td>\n",
       "      <td>NaN</td>\n",
       "      <td>1</td>\n",
       "      <td>WO2300090</td>\n",
       "      <td>Yes</td>\n",
       "      <td>2023-12-20</td>\n",
       "    </tr>\n",
       "    <tr>\n",
       "      <th>1320</th>\n",
       "      <td>WO</td>\n",
       "      <td>60000</td>\n",
       "      <td>2024-01-01</td>\n",
       "      <td>WO2400001</td>\n",
       "      <td>WO2499999</td>\n",
       "      <td>NaN</td>\n",
       "      <td>1</td>\n",
       "      <td>WO2400002</td>\n",
       "      <td>Yes</td>\n",
       "      <td>2024-02-01</td>\n",
       "    </tr>\n",
       "  </tbody>\n",
       "</table>\n",
       "</div>"
      ],
      "text/plain": [
       "     Series Code  Line No. Starting Date Starting No.   Ending No.  \\\n",
       "1311         UPC     40000    2024-03-13  81016214000  81016214999   \n",
       "1312         US-     10000    2008-12-01     US-00001     US-99999   \n",
       "1313     VERSION     10000    2019-08-01            1        99999   \n",
       "1314          WC     10000    2019-08-01       WC0001       WC9999   \n",
       "1315          WO     10000    2019-08-01    WO1900001    WO1999999   \n",
       "1316          WO     20000    2020-01-01    WO2000001    WO2099999   \n",
       "1317          WO     30000    2021-01-01    WO2100001    WO2199999   \n",
       "1318          WO     40000    2022-01-01    WO2200001    WO2299999   \n",
       "1319          WO     50000    2023-01-01    WO2300001    WO2399999   \n",
       "1320          WO     60000    2024-01-01    WO2400001    WO2499999   \n",
       "\n",
       "      Warning No.  Increment-by No. Last No. Used Open Last Date Used  \n",
       "1311          NaN                 1   81016214108  Yes     2024-09-27  \n",
       "1312          NaN                 0           NaN  Yes            NaT  \n",
       "1313          NaN                 1             1  Yes     2019-09-30  \n",
       "1314          NaN                 1        WC0014  Yes     2021-09-27  \n",
       "1315          NaN                 1     WO1900034  Yes     2019-12-17  \n",
       "1316          NaN                 1     WO2000082  Yes     2020-12-26  \n",
       "1317          NaN                 1     WO2100080  Yes     2021-12-23  \n",
       "1318          NaN                 1     WO2200169  Yes     2022-12-19  \n",
       "1319          NaN                 1     WO2300090  Yes     2023-12-20  \n",
       "1320          NaN                 1     WO2400002  Yes     2024-02-01  "
      ]
     },
     "execution_count": 5,
     "metadata": {},
     "output_type": "execute_result"
    }
   ],
   "source": [
    "#先指定df\n",
    "df = pd.read_excel(\"天數測試.xlsx\")\n",
    "df.tail(10)"
   ]
  },
  {
   "cell_type": "code",
   "execution_count": 26,
   "id": "fcaa9ee5-7630-4249-8a6a-4262346cee13",
   "metadata": {
    "tags": []
   },
   "outputs": [
    {
     "name": "stdout",
     "output_type": "stream",
     "text": [
      "WO found.\n"
     ]
    },
    {
     "data": {
      "text/plain": [
       "'WO'"
      ]
     },
     "execution_count": 26,
     "metadata": {},
     "output_type": "execute_result"
    }
   ],
   "source": [
    "#函數find_code，尋找Data裡面的code\n",
    "def find_code(df,input_code):\n",
    "    for code in range(len(df)):\n",
    "        if input_code == df[\"Series Code\"][code]:\n",
    "            print(f\"{input_code} found.\")\n",
    "            return input_code\n",
    "    print(f\"Sorry, {input_code} is not found.\")\n",
    "\n",
    "find_code(df,\"WO\")"
   ]
  },
  {
   "cell_type": "code",
   "execution_count": 92,
   "id": "4ece1c65-89cf-40d3-9cab-3f183de789b0",
   "metadata": {
    "tags": []
   },
   "outputs": [
    {
     "name": "stdout",
     "output_type": "stream",
     "text": [
      "yearly\n"
     ]
    },
    {
     "data": {
      "text/plain": [
       "(['WO'],\n",
       " [70000],\n",
       " ['WO2400001-250101-0001'],\n",
       " ['WO2400001-250101-9999'],\n",
       " ['2025/01/01'])"
      ]
     },
     "execution_count": 92,
     "metadata": {},
     "output_type": "execute_result"
    }
   ],
   "source": [
    "#函數date_format測試\n",
    "series_code = \"WO\"\n",
    "wo_code = date_format(df,\"WO\")\n",
    "print(wo_code)\n",
    "\n",
    "generate_series(df,series_code,wo_code)"
   ]
  },
  {
   "cell_type": "code",
   "execution_count": 53,
   "id": "93510873-4b7f-4c1b-8f2d-c92f7a5ce70c",
   "metadata": {
    "tags": []
   },
   "outputs": [
    {
     "name": "stdout",
     "output_type": "stream",
     "text": [
      "yearly\n",
      "<class 'str'>\n"
     ]
    }
   ],
   "source": [
    "#定義date_format\n",
    "def date_format(df,series_code):\n",
    "    interval = \"\"\n",
    "    # 過濾指定 series code 的數據\n",
    "\n",
    "    #series_code = \"WO\"#測試用\n",
    "\n",
    "    test_series = df[\"Series Code\"] == series_code\n",
    "\n",
    "    # 找到最大的 Line No\n",
    "    max_line_no = df[test_series][\"Line No.\"].max()\n",
    "    result = df[test_series & (df[\"Line No.\"] == max_line_no)]\n",
    "    # print(result)\n",
    "    starting_date = pd.to_datetime(result[\"Starting Date\"].values[0])\n",
    "    previous_date =pd.to_datetime(df.iloc[result.index-1,2].values[0])\n",
    "    time_difference = starting_date - previous_date\n",
    "    time_difference = time_difference.days \n",
    "\n",
    "    if time_difference == 365 or time_difference == 366:\n",
    "        interval = \"yearly\"\n",
    "    elif time_difference == 31 or time_difference == 30:\n",
    "        interval = \"monthly\"\n",
    "    elif time_difference == 1:\n",
    "        interval = \"daily\"\n",
    "    else:\n",
    "        print(\"Unrecognizable!\")\n",
    "    # print(interval)\n",
    "    return interval\n",
    "    # print(result.index)\n",
    "    # print(starting_date)\n",
    "    # print(previous_date)\n",
    "\n",
    "    # print(type(time_difference))\n",
    "\n",
    "#函數date_format測試\n",
    "a = date_format(df,\"PORP\")\n",
    "print(a)\n",
    "print(type(a))"
   ]
  },
  {
   "cell_type": "code",
   "execution_count": 55,
   "id": "7ba2c489-973c-48bd-91e0-032fead758e9",
   "metadata": {
    "tags": []
   },
   "outputs": [],
   "source": [
    "def generate_series(df, series_code, time_interval):\n",
    "    # 過濾指定 series code 的數據\n",
    "    test_series = df[\"Series Code\"] == series_code\n",
    "\n",
    "    # 找到最大的 Line No\n",
    "    max_line_no = df[test_series][\"Line No.\"].max()\n",
    "    result = df[test_series & (df[\"Line No.\"] == max_line_no)]\n",
    "\n",
    "    # 建立新的 series code 和 line no 列表\n",
    "    series_list = []\n",
    "    line_list = []\n",
    "    date_list = []\n",
    "    \n",
    "    starting_date = result[\"Starting Date\"].values[0]\n",
    "    starting_date = pd.to_datetime(starting_date)\n",
    "    \n",
    "    if time_interval == \"monthly\":\n",
    "        # 按月份生成日期\n",
    "        for i in range(1, 13):\n",
    "            new_date = starting_date + pd.DateOffset(months=i)\n",
    "            date_list.append(new_date)\n",
    "            series_list.append(series_code)\n",
    "            max_line_no += 10000\n",
    "            line_list.append(max_line_no)\n",
    "    elif time_interval == \"daily\":\n",
    "        # 按天數生成 365 天日期\n",
    "        for i in range(1, 366):\n",
    "            new_date = starting_date + pd.DateOffset(days=i)\n",
    "            date_list.append(new_date)\n",
    "            series_list.append(series_code)\n",
    "            max_line_no += 10000\n",
    "            line_list.append(max_line_no)\n",
    "    elif time_interval == \"yearly\":\n",
    "            new_date = starting_date + pd.DateOffset(years=1)\n",
    "            date_list.append(new_date)\n",
    "            series_list.append(series_code)\n",
    "            max_line_no += 10000\n",
    "            line_list.append(max_line_no)\n",
    "        \n",
    "    else:\n",
    "        print(\"Time format is unrecognizable!\")\n",
    "    \n",
    "    # 格式化日期\n",
    "    formatted_date_list = [date.strftime('%Y/%m/%d') for date in date_list]\n",
    "\n",
    "    # 獲取最後的 Starting No\n",
    "    last_starting_no = result[\"Starting No.\"].values[0]\n",
    "    prefix = str(last_starting_no).split(\"-\")[0] + \"-\"\n",
    "\n",
    "    # 生成新的 Starting No 和 Ending No\n",
    "    starting_list = []\n",
    "    ending_list = []\n",
    "\n",
    "    for date in range(len(formatted_date_list)):\n",
    "        year_2 = formatted_date_list[date][2:4]\n",
    "        month_2 = formatted_date_list[date][5:7]\n",
    "        date_2 = formatted_date_list[date][8:]\n",
    "\n",
    "        if int(month_2) == 10:\n",
    "            month_2 = \"A\"\n",
    "        elif int(month_2) == 11:\n",
    "            month_2 = \"B\"\n",
    "        elif int(month_2) == 12:\n",
    "            month_2 = \"C\"\n",
    "\n",
    "        new_starting_no = prefix + year_2 + month_2 + date_2 + \"-0001\"\n",
    "        starting_list.append(new_starting_no)\n",
    "        \n",
    "        if any(char in new_starting_no for char in ['A', 'B', 'C']):\n",
    "            new_ending_no = new_starting_no[:-4] + \"9999\"\n",
    "        else:\n",
    "            new_ending_no = new_starting_no[:-5] + \"-9999\"\n",
    "        \n",
    "        ending_list.append(new_ending_no)\n",
    "\n",
    "    # 輸出結果\n",
    "    return series_list, line_list, starting_list, ending_list, formatted_date_list\n",
    "\n",
    "# 使用範例\n",
    "df = pd.read_excel(\"天數測試.xlsx\")\n",
    "series_code = \"SOR\"\n",
    "series_list, line_list, starting_list, ending_list, formatted_date_list = generate_series(df, series_code, time_interval=\"monthly\")\n"
   ]
  },
  {
   "cell_type": "code",
   "execution_count": null,
   "id": "dadc1fde-3f97-4468-8b0e-c2f56c2e9011",
   "metadata": {
    "tags": []
   },
   "outputs": [],
   "source": [
    "input_code = input(\"Please enter your series code:\")\n",
    "if_search = find_code(df,input_code)\n",
    "print(f\"If search:{if_search}\")\n",
    "\n",
    "new_number = generate_series(df,input_code,if_search)\n"
   ]
  },
  {
   "cell_type": "code",
   "execution_count": 67,
   "id": "ffa89c11-7c7f-43a1-bd46-594bcd90a51e",
   "metadata": {
    "tags": []
   },
   "outputs": [
    {
     "name": "stdin",
     "output_type": "stream",
     "text": [
      "Please enter your series code: WO\n"
     ]
    },
    {
     "name": "stdout",
     "output_type": "stream",
     "text": [
      "WO found.\n",
      "['WO'] <class 'list'>\n",
      "(['WO'], [70000], ['WO2400001-250101-0001'], ['WO2400001-250101-9999'], ['2025/01/01'])\n"
     ]
    }
   ],
   "source": [
    "start_search = True\n",
    "start_generation = True\n",
    "\n",
    "while start_search:\n",
    "    input_code = input(\"Please enter your series code:\")\n",
    "    if_search = find_code(df,input_code)\n",
    "    if len(if_search) == 0:\n",
    "        start_search = True\n",
    "    else:\n",
    "        start_search = False\n",
    "\n",
    "while start_generation:\n",
    "    time_interval = date_format(df,input_code)\n",
    "    new_number = generate_series(df,input_code,time_interval)\n",
    "    print(new_number[0],type(new_number[0]))\n",
    "    \n",
    "    break\n",
    "    # print(1)\n",
    "    # break\n",
    "\n",
    "print(new_number)\n"
   ]
  },
  {
   "cell_type": "code",
   "execution_count": 69,
   "id": "a0703d74-2f57-4d14-b18c-072cb13044cb",
   "metadata": {
    "tags": []
   },
   "outputs": [
    {
     "name": "stdout",
     "output_type": "stream",
     "text": [
      "(['WO'], [70000], ['WO2400001-250101-0001'], ['WO2400001-250101-9999'], ['2025/01/01'])\n"
     ]
    }
   ],
   "source": [
    "print(new_number)"
   ]
  },
  {
   "cell_type": "code",
   "execution_count": 94,
   "id": "a9e9a8e5-e6c2-46df-aeb4-25cf519f2407",
   "metadata": {
    "tags": []
   },
   "outputs": [
    {
     "name": "stdout",
     "output_type": "stream",
     "text": [
      "(['WO', 'WO', 'WO', 'WO', 'WO', 'WO', 'WO', 'WO', 'WO', 'WO', 'WO', 'WO'], [70000, 80000, 90000, 100000, 110000, 120000, 130000, 140000, 150000, 160000, 170000, 180000], ['WO2400001-240201-0001', 'WO2400001-240301-0001', 'WO2400001-240401-0001', 'WO2400001-240501-0001', 'WO2400001-240601-0001', 'WO2400001-240701-0001', 'WO2400001-240801-0001', 'WO2400001-240901-0001', 'WO2400001-24A01-0001', 'WO2400001-24B01-0001', 'WO2400001-24C01-0001', 'WO2400001-250101-0001'], ['WO2400001-240201-9999', 'WO2400001-240301-9999', 'WO2400001-240401-9999', 'WO2400001-240501-9999', 'WO2400001-240601-9999', 'WO2400001-240701-9999', 'WO2400001-240801-9999', 'WO2400001-240901-9999', 'WO2400001-24A01-9999', 'WO2400001-24B01-9999', 'WO2400001-24C01-9999', 'WO2400001-250101-9999'], ['2024/02/01', '2024/03/01', '2024/04/01', '2024/05/01', '2024/06/01', '2024/07/01', '2024/08/01', '2024/09/01', '2024/10/01', '2024/11/01', '2024/12/01', '2025/01/01'])\n"
     ]
    }
   ],
   "source": [
    "print(generate_series(df, series_code, time_interval=\"monthly\"))"
   ]
  },
  {
   "cell_type": "code",
   "execution_count": 17,
   "id": "650df150-fa14-4be7-94b7-35657ddebdb3",
   "metadata": {},
   "outputs": [
    {
     "name": "stdout",
     "output_type": "stream",
     "text": [
      "(['LOT-NO', 'LOT-NO', 'LOT-NO', 'LOT-NO', 'LOT-NO', 'LOT-NO', 'LOT-NO', 'LOT-NO', 'LOT-NO', 'LOT-NO', 'LOT-NO', 'LOT-NO', 'LOT-NO', 'LOT-NO', 'LOT-NO', 'LOT-NO', 'LOT-NO', 'LOT-NO', 'LOT-NO', 'LOT-NO', 'LOT-NO', 'LOT-NO', 'LOT-NO', 'LOT-NO', 'LOT-NO', 'LOT-NO', 'LOT-NO', 'LOT-NO', 'LOT-NO', 'LOT-NO', 'LOT-NO', 'LOT-NO', 'LOT-NO', 'LOT-NO', 'LOT-NO', 'LOT-NO', 'LOT-NO', 'LOT-NO', 'LOT-NO', 'LOT-NO', 'LOT-NO', 'LOT-NO', 'LOT-NO', 'LOT-NO', 'LOT-NO', 'LOT-NO', 'LOT-NO', 'LOT-NO', 'LOT-NO', 'LOT-NO', 'LOT-NO', 'LOT-NO', 'LOT-NO', 'LOT-NO', 'LOT-NO', 'LOT-NO', 'LOT-NO', 'LOT-NO', 'LOT-NO', 'LOT-NO', 'LOT-NO', 'LOT-NO', 'LOT-NO', 'LOT-NO', 'LOT-NO', 'LOT-NO', 'LOT-NO', 'LOT-NO', 'LOT-NO', 'LOT-NO', 'LOT-NO', 'LOT-NO', 'LOT-NO', 'LOT-NO', 'LOT-NO', 'LOT-NO', 'LOT-NO', 'LOT-NO', 'LOT-NO', 'LOT-NO', 'LOT-NO', 'LOT-NO', 'LOT-NO', 'LOT-NO', 'LOT-NO', 'LOT-NO', 'LOT-NO', 'LOT-NO', 'LOT-NO', 'LOT-NO', 'LOT-NO', 'LOT-NO', 'LOT-NO', 'LOT-NO', 'LOT-NO', 'LOT-NO', 'LOT-NO', 'LOT-NO', 'LOT-NO', 'LOT-NO', 'LOT-NO', 'LOT-NO', 'LOT-NO', 'LOT-NO', 'LOT-NO', 'LOT-NO', 'LOT-NO', 'LOT-NO', 'LOT-NO', 'LOT-NO', 'LOT-NO', 'LOT-NO', 'LOT-NO', 'LOT-NO', 'LOT-NO', 'LOT-NO', 'LOT-NO', 'LOT-NO', 'LOT-NO', 'LOT-NO', 'LOT-NO', 'LOT-NO', 'LOT-NO', 'LOT-NO', 'LOT-NO', 'LOT-NO', 'LOT-NO', 'LOT-NO', 'LOT-NO', 'LOT-NO', 'LOT-NO', 'LOT-NO', 'LOT-NO', 'LOT-NO', 'LOT-NO', 'LOT-NO', 'LOT-NO', 'LOT-NO', 'LOT-NO', 'LOT-NO', 'LOT-NO', 'LOT-NO', 'LOT-NO', 'LOT-NO', 'LOT-NO', 'LOT-NO', 'LOT-NO', 'LOT-NO', 'LOT-NO', 'LOT-NO', 'LOT-NO', 'LOT-NO', 'LOT-NO', 'LOT-NO', 'LOT-NO', 'LOT-NO', 'LOT-NO', 'LOT-NO', 'LOT-NO', 'LOT-NO', 'LOT-NO', 'LOT-NO', 'LOT-NO', 'LOT-NO', 'LOT-NO', 'LOT-NO', 'LOT-NO', 'LOT-NO', 'LOT-NO', 'LOT-NO', 'LOT-NO', 'LOT-NO', 'LOT-NO', 'LOT-NO', 'LOT-NO', 'LOT-NO', 'LOT-NO', 'LOT-NO', 'LOT-NO', 'LOT-NO', 'LOT-NO', 'LOT-NO', 'LOT-NO', 'LOT-NO', 'LOT-NO', 'LOT-NO', 'LOT-NO', 'LOT-NO', 'LOT-NO', 'LOT-NO', 'LOT-NO', 'LOT-NO', 'LOT-NO', 'LOT-NO', 'LOT-NO', 'LOT-NO', 'LOT-NO', 'LOT-NO', 'LOT-NO', 'LOT-NO', 'LOT-NO', 'LOT-NO', 'LOT-NO', 'LOT-NO', 'LOT-NO', 'LOT-NO', 'LOT-NO', 'LOT-NO', 'LOT-NO', 'LOT-NO', 'LOT-NO', 'LOT-NO', 'LOT-NO', 'LOT-NO', 'LOT-NO', 'LOT-NO', 'LOT-NO', 'LOT-NO', 'LOT-NO', 'LOT-NO', 'LOT-NO', 'LOT-NO', 'LOT-NO', 'LOT-NO', 'LOT-NO', 'LOT-NO', 'LOT-NO', 'LOT-NO', 'LOT-NO', 'LOT-NO', 'LOT-NO', 'LOT-NO', 'LOT-NO', 'LOT-NO', 'LOT-NO', 'LOT-NO', 'LOT-NO', 'LOT-NO', 'LOT-NO', 'LOT-NO', 'LOT-NO', 'LOT-NO', 'LOT-NO', 'LOT-NO', 'LOT-NO', 'LOT-NO', 'LOT-NO', 'LOT-NO', 'LOT-NO', 'LOT-NO', 'LOT-NO', 'LOT-NO', 'LOT-NO', 'LOT-NO', 'LOT-NO', 'LOT-NO', 'LOT-NO', 'LOT-NO', 'LOT-NO', 'LOT-NO', 'LOT-NO', 'LOT-NO', 'LOT-NO', 'LOT-NO', 'LOT-NO', 'LOT-NO', 'LOT-NO', 'LOT-NO', 'LOT-NO', 'LOT-NO', 'LOT-NO', 'LOT-NO', 'LOT-NO', 'LOT-NO', 'LOT-NO', 'LOT-NO', 'LOT-NO', 'LOT-NO', 'LOT-NO', 'LOT-NO', 'LOT-NO', 'LOT-NO', 'LOT-NO', 'LOT-NO', 'LOT-NO', 'LOT-NO', 'LOT-NO', 'LOT-NO', 'LOT-NO', 'LOT-NO', 'LOT-NO', 'LOT-NO', 'LOT-NO', 'LOT-NO', 'LOT-NO', 'LOT-NO', 'LOT-NO', 'LOT-NO', 'LOT-NO', 'LOT-NO', 'LOT-NO', 'LOT-NO', 'LOT-NO', 'LOT-NO', 'LOT-NO', 'LOT-NO', 'LOT-NO', 'LOT-NO', 'LOT-NO', 'LOT-NO', 'LOT-NO', 'LOT-NO', 'LOT-NO', 'LOT-NO', 'LOT-NO', 'LOT-NO', 'LOT-NO', 'LOT-NO', 'LOT-NO', 'LOT-NO', 'LOT-NO', 'LOT-NO', 'LOT-NO', 'LOT-NO', 'LOT-NO', 'LOT-NO', 'LOT-NO', 'LOT-NO', 'LOT-NO', 'LOT-NO', 'LOT-NO', 'LOT-NO', 'LOT-NO', 'LOT-NO', 'LOT-NO', 'LOT-NO', 'LOT-NO', 'LOT-NO', 'LOT-NO', 'LOT-NO', 'LOT-NO', 'LOT-NO', 'LOT-NO', 'LOT-NO', 'LOT-NO', 'LOT-NO', 'LOT-NO', 'LOT-NO', 'LOT-NO', 'LOT-NO', 'LOT-NO', 'LOT-NO', 'LOT-NO', 'LOT-NO', 'LOT-NO', 'LOT-NO', 'LOT-NO', 'LOT-NO', 'LOT-NO', 'LOT-NO', 'LOT-NO', 'LOT-NO', 'LOT-NO', 'LOT-NO', 'LOT-NO'], [36450000, 36460000, 36470000, 36480000, 36490000, 36500000, 36510000, 36520000, 36530000, 36540000, 36550000, 36560000, 36570000, 36580000, 36590000, 36600000, 36610000, 36620000, 36630000, 36640000, 36650000, 36660000, 36670000, 36680000, 36690000, 36700000, 36710000, 36720000, 36730000, 36740000, 36750000, 36760000, 36770000, 36780000, 36790000, 36800000, 36810000, 36820000, 36830000, 36840000, 36850000, 36860000, 36870000, 36880000, 36890000, 36900000, 36910000, 36920000, 36930000, 36940000, 36950000, 36960000, 36970000, 36980000, 36990000, 37000000, 37010000, 37020000, 37030000, 37040000, 37050000, 37060000, 37070000, 37080000, 37090000, 37100000, 37110000, 37120000, 37130000, 37140000, 37150000, 37160000, 37170000, 37180000, 37190000, 37200000, 37210000, 37220000, 37230000, 37240000, 37250000, 37260000, 37270000, 37280000, 37290000, 37300000, 37310000, 37320000, 37330000, 37340000, 37350000, 37360000, 37370000, 37380000, 37390000, 37400000, 37410000, 37420000, 37430000, 37440000, 37450000, 37460000, 37470000, 37480000, 37490000, 37500000, 37510000, 37520000, 37530000, 37540000, 37550000, 37560000, 37570000, 37580000, 37590000, 37600000, 37610000, 37620000, 37630000, 37640000, 37650000, 37660000, 37670000, 37680000, 37690000, 37700000, 37710000, 37720000, 37730000, 37740000, 37750000, 37760000, 37770000, 37780000, 37790000, 37800000, 37810000, 37820000, 37830000, 37840000, 37850000, 37860000, 37870000, 37880000, 37890000, 37900000, 37910000, 37920000, 37930000, 37940000, 37950000, 37960000, 37970000, 37980000, 37990000, 38000000, 38010000, 38020000, 38030000, 38040000, 38050000, 38060000, 38070000, 38080000, 38090000, 38100000, 38110000, 38120000, 38130000, 38140000, 38150000, 38160000, 38170000, 38180000, 38190000, 38200000, 38210000, 38220000, 38230000, 38240000, 38250000, 38260000, 38270000, 38280000, 38290000, 38300000, 38310000, 38320000, 38330000, 38340000, 38350000, 38360000, 38370000, 38380000, 38390000, 38400000, 38410000, 38420000, 38430000, 38440000, 38450000, 38460000, 38470000, 38480000, 38490000, 38500000, 38510000, 38520000, 38530000, 38540000, 38550000, 38560000, 38570000, 38580000, 38590000, 38600000, 38610000, 38620000, 38630000, 38640000, 38650000, 38660000, 38670000, 38680000, 38690000, 38700000, 38710000, 38720000, 38730000, 38740000, 38750000, 38760000, 38770000, 38780000, 38790000, 38800000, 38810000, 38820000, 38830000, 38840000, 38850000, 38860000, 38870000, 38880000, 38890000, 38900000, 38910000, 38920000, 38930000, 38940000, 38950000, 38960000, 38970000, 38980000, 38990000, 39000000, 39010000, 39020000, 39030000, 39040000, 39050000, 39060000, 39070000, 39080000, 39090000, 39100000, 39110000, 39120000, 39130000, 39140000, 39150000, 39160000, 39170000, 39180000, 39190000, 39200000, 39210000, 39220000, 39230000, 39240000, 39250000, 39260000, 39270000, 39280000, 39290000, 39300000, 39310000, 39320000, 39330000, 39340000, 39350000, 39360000, 39370000, 39380000, 39390000, 39400000, 39410000, 39420000, 39430000, 39440000, 39450000, 39460000, 39470000, 39480000, 39490000, 39500000, 39510000, 39520000, 39530000, 39540000, 39550000, 39560000, 39570000, 39580000, 39590000, 39600000, 39610000, 39620000, 39630000, 39640000, 39650000, 39660000, 39670000, 39680000, 39690000, 39700000, 39710000, 39720000, 39730000, 39740000, 39750000, 39760000, 39770000, 39780000, 39790000, 39800000, 39810000, 39820000, 39830000, 39840000, 39850000, 39860000, 39870000, 39880000, 39890000, 39900000, 39910000, 39920000, 39930000, 39940000, 39950000, 39960000, 39970000, 39980000, 39990000, 40000000, 40010000, 40020000, 40030000, 40040000, 40050000, 40060000, 40070000, 40080000, 40090000], ['ULOT-250101-0001', 'ULOT-250102-0001', 'ULOT-250103-0001', 'ULOT-250104-0001', 'ULOT-250105-0001', 'ULOT-250106-0001', 'ULOT-250107-0001', 'ULOT-250108-0001', 'ULOT-250109-0001', 'ULOT-250110-0001', 'ULOT-250111-0001', 'ULOT-250112-0001', 'ULOT-250113-0001', 'ULOT-250114-0001', 'ULOT-250115-0001', 'ULOT-250116-0001', 'ULOT-250117-0001', 'ULOT-250118-0001', 'ULOT-250119-0001', 'ULOT-250120-0001', 'ULOT-250121-0001', 'ULOT-250122-0001', 'ULOT-250123-0001', 'ULOT-250124-0001', 'ULOT-250125-0001', 'ULOT-250126-0001', 'ULOT-250127-0001', 'ULOT-250128-0001', 'ULOT-250129-0001', 'ULOT-250130-0001', 'ULOT-250131-0001', 'ULOT-250201-0001', 'ULOT-250202-0001', 'ULOT-250203-0001', 'ULOT-250204-0001', 'ULOT-250205-0001', 'ULOT-250206-0001', 'ULOT-250207-0001', 'ULOT-250208-0001', 'ULOT-250209-0001', 'ULOT-250210-0001', 'ULOT-250211-0001', 'ULOT-250212-0001', 'ULOT-250213-0001', 'ULOT-250214-0001', 'ULOT-250215-0001', 'ULOT-250216-0001', 'ULOT-250217-0001', 'ULOT-250218-0001', 'ULOT-250219-0001', 'ULOT-250220-0001', 'ULOT-250221-0001', 'ULOT-250222-0001', 'ULOT-250223-0001', 'ULOT-250224-0001', 'ULOT-250225-0001', 'ULOT-250226-0001', 'ULOT-250227-0001', 'ULOT-250228-0001', 'ULOT-250301-0001', 'ULOT-250302-0001', 'ULOT-250303-0001', 'ULOT-250304-0001', 'ULOT-250305-0001', 'ULOT-250306-0001', 'ULOT-250307-0001', 'ULOT-250308-0001', 'ULOT-250309-0001', 'ULOT-250310-0001', 'ULOT-250311-0001', 'ULOT-250312-0001', 'ULOT-250313-0001', 'ULOT-250314-0001', 'ULOT-250315-0001', 'ULOT-250316-0001', 'ULOT-250317-0001', 'ULOT-250318-0001', 'ULOT-250319-0001', 'ULOT-250320-0001', 'ULOT-250321-0001', 'ULOT-250322-0001', 'ULOT-250323-0001', 'ULOT-250324-0001', 'ULOT-250325-0001', 'ULOT-250326-0001', 'ULOT-250327-0001', 'ULOT-250328-0001', 'ULOT-250329-0001', 'ULOT-250330-0001', 'ULOT-250331-0001', 'ULOT-250401-0001', 'ULOT-250402-0001', 'ULOT-250403-0001', 'ULOT-250404-0001', 'ULOT-250405-0001', 'ULOT-250406-0001', 'ULOT-250407-0001', 'ULOT-250408-0001', 'ULOT-250409-0001', 'ULOT-250410-0001', 'ULOT-250411-0001', 'ULOT-250412-0001', 'ULOT-250413-0001', 'ULOT-250414-0001', 'ULOT-250415-0001', 'ULOT-250416-0001', 'ULOT-250417-0001', 'ULOT-250418-0001', 'ULOT-250419-0001', 'ULOT-250420-0001', 'ULOT-250421-0001', 'ULOT-250422-0001', 'ULOT-250423-0001', 'ULOT-250424-0001', 'ULOT-250425-0001', 'ULOT-250426-0001', 'ULOT-250427-0001', 'ULOT-250428-0001', 'ULOT-250429-0001', 'ULOT-250430-0001', 'ULOT-250501-0001', 'ULOT-250502-0001', 'ULOT-250503-0001', 'ULOT-250504-0001', 'ULOT-250505-0001', 'ULOT-250506-0001', 'ULOT-250507-0001', 'ULOT-250508-0001', 'ULOT-250509-0001', 'ULOT-250510-0001', 'ULOT-250511-0001', 'ULOT-250512-0001', 'ULOT-250513-0001', 'ULOT-250514-0001', 'ULOT-250515-0001', 'ULOT-250516-0001', 'ULOT-250517-0001', 'ULOT-250518-0001', 'ULOT-250519-0001', 'ULOT-250520-0001', 'ULOT-250521-0001', 'ULOT-250522-0001', 'ULOT-250523-0001', 'ULOT-250524-0001', 'ULOT-250525-0001', 'ULOT-250526-0001', 'ULOT-250527-0001', 'ULOT-250528-0001', 'ULOT-250529-0001', 'ULOT-250530-0001', 'ULOT-250531-0001', 'ULOT-250601-0001', 'ULOT-250602-0001', 'ULOT-250603-0001', 'ULOT-250604-0001', 'ULOT-250605-0001', 'ULOT-250606-0001', 'ULOT-250607-0001', 'ULOT-250608-0001', 'ULOT-250609-0001', 'ULOT-250610-0001', 'ULOT-250611-0001', 'ULOT-250612-0001', 'ULOT-250613-0001', 'ULOT-250614-0001', 'ULOT-250615-0001', 'ULOT-250616-0001', 'ULOT-250617-0001', 'ULOT-250618-0001', 'ULOT-250619-0001', 'ULOT-250620-0001', 'ULOT-250621-0001', 'ULOT-250622-0001', 'ULOT-250623-0001', 'ULOT-250624-0001', 'ULOT-250625-0001', 'ULOT-250626-0001', 'ULOT-250627-0001', 'ULOT-250628-0001', 'ULOT-250629-0001', 'ULOT-250630-0001', 'ULOT-250701-0001', 'ULOT-250702-0001', 'ULOT-250703-0001', 'ULOT-250704-0001', 'ULOT-250705-0001', 'ULOT-250706-0001', 'ULOT-250707-0001', 'ULOT-250708-0001', 'ULOT-250709-0001', 'ULOT-250710-0001', 'ULOT-250711-0001', 'ULOT-250712-0001', 'ULOT-250713-0001', 'ULOT-250714-0001', 'ULOT-250715-0001', 'ULOT-250716-0001', 'ULOT-250717-0001', 'ULOT-250718-0001', 'ULOT-250719-0001', 'ULOT-250720-0001', 'ULOT-250721-0001', 'ULOT-250722-0001', 'ULOT-250723-0001', 'ULOT-250724-0001', 'ULOT-250725-0001', 'ULOT-250726-0001', 'ULOT-250727-0001', 'ULOT-250728-0001', 'ULOT-250729-0001', 'ULOT-250730-0001', 'ULOT-250731-0001', 'ULOT-250801-0001', 'ULOT-250802-0001', 'ULOT-250803-0001', 'ULOT-250804-0001', 'ULOT-250805-0001', 'ULOT-250806-0001', 'ULOT-250807-0001', 'ULOT-250808-0001', 'ULOT-250809-0001', 'ULOT-250810-0001', 'ULOT-250811-0001', 'ULOT-250812-0001', 'ULOT-250813-0001', 'ULOT-250814-0001', 'ULOT-250815-0001', 'ULOT-250816-0001', 'ULOT-250817-0001', 'ULOT-250818-0001', 'ULOT-250819-0001', 'ULOT-250820-0001', 'ULOT-250821-0001', 'ULOT-250822-0001', 'ULOT-250823-0001', 'ULOT-250824-0001', 'ULOT-250825-0001', 'ULOT-250826-0001', 'ULOT-250827-0001', 'ULOT-250828-0001', 'ULOT-250829-0001', 'ULOT-250830-0001', 'ULOT-250831-0001', 'ULOT-250901-0001', 'ULOT-250902-0001', 'ULOT-250903-0001', 'ULOT-250904-0001', 'ULOT-250905-0001', 'ULOT-250906-0001', 'ULOT-250907-0001', 'ULOT-250908-0001', 'ULOT-250909-0001', 'ULOT-250910-0001', 'ULOT-250911-0001', 'ULOT-250912-0001', 'ULOT-250913-0001', 'ULOT-250914-0001', 'ULOT-250915-0001', 'ULOT-250916-0001', 'ULOT-250917-0001', 'ULOT-250918-0001', 'ULOT-250919-0001', 'ULOT-250920-0001', 'ULOT-250921-0001', 'ULOT-250922-0001', 'ULOT-250923-0001', 'ULOT-250924-0001', 'ULOT-250925-0001', 'ULOT-250926-0001', 'ULOT-250927-0001', 'ULOT-250928-0001', 'ULOT-250929-0001', 'ULOT-250930-0001', 'ULOT-25A01-0001', 'ULOT-25A02-0001', 'ULOT-25A03-0001', 'ULOT-25A04-0001', 'ULOT-25A05-0001', 'ULOT-25A06-0001', 'ULOT-25A07-0001', 'ULOT-25A08-0001', 'ULOT-25A09-0001', 'ULOT-25A10-0001', 'ULOT-25A11-0001', 'ULOT-25A12-0001', 'ULOT-25A13-0001', 'ULOT-25A14-0001', 'ULOT-25A15-0001', 'ULOT-25A16-0001', 'ULOT-25A17-0001', 'ULOT-25A18-0001', 'ULOT-25A19-0001', 'ULOT-25A20-0001', 'ULOT-25A21-0001', 'ULOT-25A22-0001', 'ULOT-25A23-0001', 'ULOT-25A24-0001', 'ULOT-25A25-0001', 'ULOT-25A26-0001', 'ULOT-25A27-0001', 'ULOT-25A28-0001', 'ULOT-25A29-0001', 'ULOT-25A30-0001', 'ULOT-25A31-0001', 'ULOT-25B01-0001', 'ULOT-25B02-0001', 'ULOT-25B03-0001', 'ULOT-25B04-0001', 'ULOT-25B05-0001', 'ULOT-25B06-0001', 'ULOT-25B07-0001', 'ULOT-25B08-0001', 'ULOT-25B09-0001', 'ULOT-25B10-0001', 'ULOT-25B11-0001', 'ULOT-25B12-0001', 'ULOT-25B13-0001', 'ULOT-25B14-0001', 'ULOT-25B15-0001', 'ULOT-25B16-0001', 'ULOT-25B17-0001', 'ULOT-25B18-0001', 'ULOT-25B19-0001', 'ULOT-25B20-0001', 'ULOT-25B21-0001', 'ULOT-25B22-0001', 'ULOT-25B23-0001', 'ULOT-25B24-0001', 'ULOT-25B25-0001', 'ULOT-25B26-0001', 'ULOT-25B27-0001', 'ULOT-25B28-0001', 'ULOT-25B29-0001', 'ULOT-25B30-0001', 'ULOT-25C01-0001', 'ULOT-25C02-0001', 'ULOT-25C03-0001', 'ULOT-25C04-0001', 'ULOT-25C05-0001', 'ULOT-25C06-0001', 'ULOT-25C07-0001', 'ULOT-25C08-0001', 'ULOT-25C09-0001', 'ULOT-25C10-0001', 'ULOT-25C11-0001', 'ULOT-25C12-0001', 'ULOT-25C13-0001', 'ULOT-25C14-0001', 'ULOT-25C15-0001', 'ULOT-25C16-0001', 'ULOT-25C17-0001', 'ULOT-25C18-0001', 'ULOT-25C19-0001', 'ULOT-25C20-0001', 'ULOT-25C21-0001', 'ULOT-25C22-0001', 'ULOT-25C23-0001', 'ULOT-25C24-0001', 'ULOT-25C25-0001', 'ULOT-25C26-0001', 'ULOT-25C27-0001', 'ULOT-25C28-0001', 'ULOT-25C29-0001', 'ULOT-25C30-0001', 'ULOT-25C31-0001'], ['ULOT-250101-9999', 'ULOT-250102-9999', 'ULOT-250103-9999', 'ULOT-250104-9999', 'ULOT-250105-9999', 'ULOT-250106-9999', 'ULOT-250107-9999', 'ULOT-250108-9999', 'ULOT-250109-9999', 'ULOT-250110-9999', 'ULOT-250111-9999', 'ULOT-250112-9999', 'ULOT-250113-9999', 'ULOT-250114-9999', 'ULOT-250115-9999', 'ULOT-250116-9999', 'ULOT-250117-9999', 'ULOT-250118-9999', 'ULOT-250119-9999', 'ULOT-250120-9999', 'ULOT-250121-9999', 'ULOT-250122-9999', 'ULOT-250123-9999', 'ULOT-250124-9999', 'ULOT-250125-9999', 'ULOT-250126-9999', 'ULOT-250127-9999', 'ULOT-250128-9999', 'ULOT-250129-9999', 'ULOT-250130-9999', 'ULOT-250131-9999', 'ULOT-250201-9999', 'ULOT-250202-9999', 'ULOT-250203-9999', 'ULOT-250204-9999', 'ULOT-250205-9999', 'ULOT-250206-9999', 'ULOT-250207-9999', 'ULOT-250208-9999', 'ULOT-250209-9999', 'ULOT-250210-9999', 'ULOT-250211-9999', 'ULOT-250212-9999', 'ULOT-250213-9999', 'ULOT-250214-9999', 'ULOT-250215-9999', 'ULOT-250216-9999', 'ULOT-250217-9999', 'ULOT-250218-9999', 'ULOT-250219-9999', 'ULOT-250220-9999', 'ULOT-250221-9999', 'ULOT-250222-9999', 'ULOT-250223-9999', 'ULOT-250224-9999', 'ULOT-250225-9999', 'ULOT-250226-9999', 'ULOT-250227-9999', 'ULOT-250228-9999', 'ULOT-250301-9999', 'ULOT-250302-9999', 'ULOT-250303-9999', 'ULOT-250304-9999', 'ULOT-250305-9999', 'ULOT-250306-9999', 'ULOT-250307-9999', 'ULOT-250308-9999', 'ULOT-250309-9999', 'ULOT-250310-9999', 'ULOT-250311-9999', 'ULOT-250312-9999', 'ULOT-250313-9999', 'ULOT-250314-9999', 'ULOT-250315-9999', 'ULOT-250316-9999', 'ULOT-250317-9999', 'ULOT-250318-9999', 'ULOT-250319-9999', 'ULOT-250320-9999', 'ULOT-250321-9999', 'ULOT-250322-9999', 'ULOT-250323-9999', 'ULOT-250324-9999', 'ULOT-250325-9999', 'ULOT-250326-9999', 'ULOT-250327-9999', 'ULOT-250328-9999', 'ULOT-250329-9999', 'ULOT-250330-9999', 'ULOT-250331-9999', 'ULOT-250401-9999', 'ULOT-250402-9999', 'ULOT-250403-9999', 'ULOT-250404-9999', 'ULOT-250405-9999', 'ULOT-250406-9999', 'ULOT-250407-9999', 'ULOT-250408-9999', 'ULOT-250409-9999', 'ULOT-250410-9999', 'ULOT-250411-9999', 'ULOT-250412-9999', 'ULOT-250413-9999', 'ULOT-250414-9999', 'ULOT-250415-9999', 'ULOT-250416-9999', 'ULOT-250417-9999', 'ULOT-250418-9999', 'ULOT-250419-9999', 'ULOT-250420-9999', 'ULOT-250421-9999', 'ULOT-250422-9999', 'ULOT-250423-9999', 'ULOT-250424-9999', 'ULOT-250425-9999', 'ULOT-250426-9999', 'ULOT-250427-9999', 'ULOT-250428-9999', 'ULOT-250429-9999', 'ULOT-250430-9999', 'ULOT-250501-9999', 'ULOT-250502-9999', 'ULOT-250503-9999', 'ULOT-250504-9999', 'ULOT-250505-9999', 'ULOT-250506-9999', 'ULOT-250507-9999', 'ULOT-250508-9999', 'ULOT-250509-9999', 'ULOT-250510-9999', 'ULOT-250511-9999', 'ULOT-250512-9999', 'ULOT-250513-9999', 'ULOT-250514-9999', 'ULOT-250515-9999', 'ULOT-250516-9999', 'ULOT-250517-9999', 'ULOT-250518-9999', 'ULOT-250519-9999', 'ULOT-250520-9999', 'ULOT-250521-9999', 'ULOT-250522-9999', 'ULOT-250523-9999', 'ULOT-250524-9999', 'ULOT-250525-9999', 'ULOT-250526-9999', 'ULOT-250527-9999', 'ULOT-250528-9999', 'ULOT-250529-9999', 'ULOT-250530-9999', 'ULOT-250531-9999', 'ULOT-250601-9999', 'ULOT-250602-9999', 'ULOT-250603-9999', 'ULOT-250604-9999', 'ULOT-250605-9999', 'ULOT-250606-9999', 'ULOT-250607-9999', 'ULOT-250608-9999', 'ULOT-250609-9999', 'ULOT-250610-9999', 'ULOT-250611-9999', 'ULOT-250612-9999', 'ULOT-250613-9999', 'ULOT-250614-9999', 'ULOT-250615-9999', 'ULOT-250616-9999', 'ULOT-250617-9999', 'ULOT-250618-9999', 'ULOT-250619-9999', 'ULOT-250620-9999', 'ULOT-250621-9999', 'ULOT-250622-9999', 'ULOT-250623-9999', 'ULOT-250624-9999', 'ULOT-250625-9999', 'ULOT-250626-9999', 'ULOT-250627-9999', 'ULOT-250628-9999', 'ULOT-250629-9999', 'ULOT-250630-9999', 'ULOT-250701-9999', 'ULOT-250702-9999', 'ULOT-250703-9999', 'ULOT-250704-9999', 'ULOT-250705-9999', 'ULOT-250706-9999', 'ULOT-250707-9999', 'ULOT-250708-9999', 'ULOT-250709-9999', 'ULOT-250710-9999', 'ULOT-250711-9999', 'ULOT-250712-9999', 'ULOT-250713-9999', 'ULOT-250714-9999', 'ULOT-250715-9999', 'ULOT-250716-9999', 'ULOT-250717-9999', 'ULOT-250718-9999', 'ULOT-250719-9999', 'ULOT-250720-9999', 'ULOT-250721-9999', 'ULOT-250722-9999', 'ULOT-250723-9999', 'ULOT-250724-9999', 'ULOT-250725-9999', 'ULOT-250726-9999', 'ULOT-250727-9999', 'ULOT-250728-9999', 'ULOT-250729-9999', 'ULOT-250730-9999', 'ULOT-250731-9999', 'ULOT-250801-9999', 'ULOT-250802-9999', 'ULOT-250803-9999', 'ULOT-250804-9999', 'ULOT-250805-9999', 'ULOT-250806-9999', 'ULOT-250807-9999', 'ULOT-250808-9999', 'ULOT-250809-9999', 'ULOT-250810-9999', 'ULOT-250811-9999', 'ULOT-250812-9999', 'ULOT-250813-9999', 'ULOT-250814-9999', 'ULOT-250815-9999', 'ULOT-250816-9999', 'ULOT-250817-9999', 'ULOT-250818-9999', 'ULOT-250819-9999', 'ULOT-250820-9999', 'ULOT-250821-9999', 'ULOT-250822-9999', 'ULOT-250823-9999', 'ULOT-250824-9999', 'ULOT-250825-9999', 'ULOT-250826-9999', 'ULOT-250827-9999', 'ULOT-250828-9999', 'ULOT-250829-9999', 'ULOT-250830-9999', 'ULOT-250831-9999', 'ULOT-250901-9999', 'ULOT-250902-9999', 'ULOT-250903-9999', 'ULOT-250904-9999', 'ULOT-250905-9999', 'ULOT-250906-9999', 'ULOT-250907-9999', 'ULOT-250908-9999', 'ULOT-250909-9999', 'ULOT-250910-9999', 'ULOT-250911-9999', 'ULOT-250912-9999', 'ULOT-250913-9999', 'ULOT-250914-9999', 'ULOT-250915-9999', 'ULOT-250916-9999', 'ULOT-250917-9999', 'ULOT-250918-9999', 'ULOT-250919-9999', 'ULOT-250920-9999', 'ULOT-250921-9999', 'ULOT-250922-9999', 'ULOT-250923-9999', 'ULOT-250924-9999', 'ULOT-250925-9999', 'ULOT-250926-9999', 'ULOT-250927-9999', 'ULOT-250928-9999', 'ULOT-250929-9999', 'ULOT-250930-9999', 'ULOT-25A01-9999', 'ULOT-25A02-9999', 'ULOT-25A03-9999', 'ULOT-25A04-9999', 'ULOT-25A05-9999', 'ULOT-25A06-9999', 'ULOT-25A07-9999', 'ULOT-25A08-9999', 'ULOT-25A09-9999', 'ULOT-25A10-9999', 'ULOT-25A11-9999', 'ULOT-25A12-9999', 'ULOT-25A13-9999', 'ULOT-25A14-9999', 'ULOT-25A15-9999', 'ULOT-25A16-9999', 'ULOT-25A17-9999', 'ULOT-25A18-9999', 'ULOT-25A19-9999', 'ULOT-25A20-9999', 'ULOT-25A21-9999', 'ULOT-25A22-9999', 'ULOT-25A23-9999', 'ULOT-25A24-9999', 'ULOT-25A25-9999', 'ULOT-25A26-9999', 'ULOT-25A27-9999', 'ULOT-25A28-9999', 'ULOT-25A29-9999', 'ULOT-25A30-9999', 'ULOT-25A31-9999', 'ULOT-25B01-9999', 'ULOT-25B02-9999', 'ULOT-25B03-9999', 'ULOT-25B04-9999', 'ULOT-25B05-9999', 'ULOT-25B06-9999', 'ULOT-25B07-9999', 'ULOT-25B08-9999', 'ULOT-25B09-9999', 'ULOT-25B10-9999', 'ULOT-25B11-9999', 'ULOT-25B12-9999', 'ULOT-25B13-9999', 'ULOT-25B14-9999', 'ULOT-25B15-9999', 'ULOT-25B16-9999', 'ULOT-25B17-9999', 'ULOT-25B18-9999', 'ULOT-25B19-9999', 'ULOT-25B20-9999', 'ULOT-25B21-9999', 'ULOT-25B22-9999', 'ULOT-25B23-9999', 'ULOT-25B24-9999', 'ULOT-25B25-9999', 'ULOT-25B26-9999', 'ULOT-25B27-9999', 'ULOT-25B28-9999', 'ULOT-25B29-9999', 'ULOT-25B30-9999', 'ULOT-25C01-9999', 'ULOT-25C02-9999', 'ULOT-25C03-9999', 'ULOT-25C04-9999', 'ULOT-25C05-9999', 'ULOT-25C06-9999', 'ULOT-25C07-9999', 'ULOT-25C08-9999', 'ULOT-25C09-9999', 'ULOT-25C10-9999', 'ULOT-25C11-9999', 'ULOT-25C12-9999', 'ULOT-25C13-9999', 'ULOT-25C14-9999', 'ULOT-25C15-9999', 'ULOT-25C16-9999', 'ULOT-25C17-9999', 'ULOT-25C18-9999', 'ULOT-25C19-9999', 'ULOT-25C20-9999', 'ULOT-25C21-9999', 'ULOT-25C22-9999', 'ULOT-25C23-9999', 'ULOT-25C24-9999', 'ULOT-25C25-9999', 'ULOT-25C26-9999', 'ULOT-25C27-9999', 'ULOT-25C28-9999', 'ULOT-25C29-9999', 'ULOT-25C30-9999', 'ULOT-25C31-9999'], ['2025/01/01', '2025/01/02', '2025/01/03', '2025/01/04', '2025/01/05', '2025/01/06', '2025/01/07', '2025/01/08', '2025/01/09', '2025/01/10', '2025/01/11', '2025/01/12', '2025/01/13', '2025/01/14', '2025/01/15', '2025/01/16', '2025/01/17', '2025/01/18', '2025/01/19', '2025/01/20', '2025/01/21', '2025/01/22', '2025/01/23', '2025/01/24', '2025/01/25', '2025/01/26', '2025/01/27', '2025/01/28', '2025/01/29', '2025/01/30', '2025/01/31', '2025/02/01', '2025/02/02', '2025/02/03', '2025/02/04', '2025/02/05', '2025/02/06', '2025/02/07', '2025/02/08', '2025/02/09', '2025/02/10', '2025/02/11', '2025/02/12', '2025/02/13', '2025/02/14', '2025/02/15', '2025/02/16', '2025/02/17', '2025/02/18', '2025/02/19', '2025/02/20', '2025/02/21', '2025/02/22', '2025/02/23', '2025/02/24', '2025/02/25', '2025/02/26', '2025/02/27', '2025/02/28', '2025/03/01', '2025/03/02', '2025/03/03', '2025/03/04', '2025/03/05', '2025/03/06', '2025/03/07', '2025/03/08', '2025/03/09', '2025/03/10', '2025/03/11', '2025/03/12', '2025/03/13', '2025/03/14', '2025/03/15', '2025/03/16', '2025/03/17', '2025/03/18', '2025/03/19', '2025/03/20', '2025/03/21', '2025/03/22', '2025/03/23', '2025/03/24', '2025/03/25', '2025/03/26', '2025/03/27', '2025/03/28', '2025/03/29', '2025/03/30', '2025/03/31', '2025/04/01', '2025/04/02', '2025/04/03', '2025/04/04', '2025/04/05', '2025/04/06', '2025/04/07', '2025/04/08', '2025/04/09', '2025/04/10', '2025/04/11', '2025/04/12', '2025/04/13', '2025/04/14', '2025/04/15', '2025/04/16', '2025/04/17', '2025/04/18', '2025/04/19', '2025/04/20', '2025/04/21', '2025/04/22', '2025/04/23', '2025/04/24', '2025/04/25', '2025/04/26', '2025/04/27', '2025/04/28', '2025/04/29', '2025/04/30', '2025/05/01', '2025/05/02', '2025/05/03', '2025/05/04', '2025/05/05', '2025/05/06', '2025/05/07', '2025/05/08', '2025/05/09', '2025/05/10', '2025/05/11', '2025/05/12', '2025/05/13', '2025/05/14', '2025/05/15', '2025/05/16', '2025/05/17', '2025/05/18', '2025/05/19', '2025/05/20', '2025/05/21', '2025/05/22', '2025/05/23', '2025/05/24', '2025/05/25', '2025/05/26', '2025/05/27', '2025/05/28', '2025/05/29', '2025/05/30', '2025/05/31', '2025/06/01', '2025/06/02', '2025/06/03', '2025/06/04', '2025/06/05', '2025/06/06', '2025/06/07', '2025/06/08', '2025/06/09', '2025/06/10', '2025/06/11', '2025/06/12', '2025/06/13', '2025/06/14', '2025/06/15', '2025/06/16', '2025/06/17', '2025/06/18', '2025/06/19', '2025/06/20', '2025/06/21', '2025/06/22', '2025/06/23', '2025/06/24', '2025/06/25', '2025/06/26', '2025/06/27', '2025/06/28', '2025/06/29', '2025/06/30', '2025/07/01', '2025/07/02', '2025/07/03', '2025/07/04', '2025/07/05', '2025/07/06', '2025/07/07', '2025/07/08', '2025/07/09', '2025/07/10', '2025/07/11', '2025/07/12', '2025/07/13', '2025/07/14', '2025/07/15', '2025/07/16', '2025/07/17', '2025/07/18', '2025/07/19', '2025/07/20', '2025/07/21', '2025/07/22', '2025/07/23', '2025/07/24', '2025/07/25', '2025/07/26', '2025/07/27', '2025/07/28', '2025/07/29', '2025/07/30', '2025/07/31', '2025/08/01', '2025/08/02', '2025/08/03', '2025/08/04', '2025/08/05', '2025/08/06', '2025/08/07', '2025/08/08', '2025/08/09', '2025/08/10', '2025/08/11', '2025/08/12', '2025/08/13', '2025/08/14', '2025/08/15', '2025/08/16', '2025/08/17', '2025/08/18', '2025/08/19', '2025/08/20', '2025/08/21', '2025/08/22', '2025/08/23', '2025/08/24', '2025/08/25', '2025/08/26', '2025/08/27', '2025/08/28', '2025/08/29', '2025/08/30', '2025/08/31', '2025/09/01', '2025/09/02', '2025/09/03', '2025/09/04', '2025/09/05', '2025/09/06', '2025/09/07', '2025/09/08', '2025/09/09', '2025/09/10', '2025/09/11', '2025/09/12', '2025/09/13', '2025/09/14', '2025/09/15', '2025/09/16', '2025/09/17', '2025/09/18', '2025/09/19', '2025/09/20', '2025/09/21', '2025/09/22', '2025/09/23', '2025/09/24', '2025/09/25', '2025/09/26', '2025/09/27', '2025/09/28', '2025/09/29', '2025/09/30', '2025/10/01', '2025/10/02', '2025/10/03', '2025/10/04', '2025/10/05', '2025/10/06', '2025/10/07', '2025/10/08', '2025/10/09', '2025/10/10', '2025/10/11', '2025/10/12', '2025/10/13', '2025/10/14', '2025/10/15', '2025/10/16', '2025/10/17', '2025/10/18', '2025/10/19', '2025/10/20', '2025/10/21', '2025/10/22', '2025/10/23', '2025/10/24', '2025/10/25', '2025/10/26', '2025/10/27', '2025/10/28', '2025/10/29', '2025/10/30', '2025/10/31', '2025/11/01', '2025/11/02', '2025/11/03', '2025/11/04', '2025/11/05', '2025/11/06', '2025/11/07', '2025/11/08', '2025/11/09', '2025/11/10', '2025/11/11', '2025/11/12', '2025/11/13', '2025/11/14', '2025/11/15', '2025/11/16', '2025/11/17', '2025/11/18', '2025/11/19', '2025/11/20', '2025/11/21', '2025/11/22', '2025/11/23', '2025/11/24', '2025/11/25', '2025/11/26', '2025/11/27', '2025/11/28', '2025/11/29', '2025/11/30', '2025/12/01', '2025/12/02', '2025/12/03', '2025/12/04', '2025/12/05', '2025/12/06', '2025/12/07', '2025/12/08', '2025/12/09', '2025/12/10', '2025/12/11', '2025/12/12', '2025/12/13', '2025/12/14', '2025/12/15', '2025/12/16', '2025/12/17', '2025/12/18', '2025/12/19', '2025/12/20', '2025/12/21', '2025/12/22', '2025/12/23', '2025/12/24', '2025/12/25', '2025/12/26', '2025/12/27', '2025/12/28', '2025/12/29', '2025/12/30', '2025/12/31'])\n"
     ]
    }
   ],
   "source": [
    "df = pd.read_excel(\"天數測試.xlsx\")\n",
    "series_code = \"LOT-NO\"\n",
    "series_list, line_list, starting_list, ending_list, formatted_date_list = generate_series(df, series_code, time_interval=\"monthly\")\n",
    "print(generate_series(df, series_code, time_interval=\"daily\"))"
   ]
  }
 ],
 "metadata": {
  "kernelspec": {
   "display_name": "Python 3 (ipykernel)",
   "language": "python",
   "name": "python3"
  },
  "language_info": {
   "codemirror_mode": {
    "name": "ipython",
    "version": 3
   },
   "file_extension": ".py",
   "mimetype": "text/x-python",
   "name": "python",
   "nbconvert_exporter": "python",
   "pygments_lexer": "ipython3",
   "version": "3.12.4"
  }
 },
 "nbformat": 4,
 "nbformat_minor": 5
}
